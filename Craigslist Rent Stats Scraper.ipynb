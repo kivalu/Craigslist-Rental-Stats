{
 "cells": [
  {
   "cell_type": "markdown",
   "id": "21ce5c5e",
   "metadata": {},
   "source": [
    "# Craiglist Rent Statistics Generator\n",
    "\n",
    "Written by Kivalu Ramanlal"
   ]
  },
  {
   "cell_type": "code",
   "execution_count": 1,
   "id": "3e8a356b",
   "metadata": {},
   "outputs": [],
   "source": [
    "from bs4 import BeautifulSoup\n",
    "from requests import get\n",
    "import pandas as pd\n",
    "import itertools, re\n",
    "import sys\n",
    "from fake_useragent import UserAgent"
   ]
  },
  {
   "cell_type": "code",
   "execution_count": 2,
   "id": "32ab8b63",
   "metadata": {},
   "outputs": [],
   "source": [
    "def get_apartment_stats(zipcode, header, num_bedrooms=0):\n",
    "    \"\"\"\n",
    "    @param zipcode : (int) zipcode for location of interest\n",
    "    @param header : (dict) header for python request\n",
    "    @param num_bedrooms: (int) filter stats by desired number of bedrooms\n",
    "                         the value is 0 if you want repartments with any number of bedrooms\n",
    "    \n",
    "    @return : (pd.DataFrame) with summary stats for price, area, bedrooms\n",
    "    \"\"\"\n",
    "    url = \"https://honolulu.craigslist.org/search/apa?postal={}&availabilityMode=0&sale_date=all+dates\".format(zipcode)\n",
    "    response = get(url, header)\n",
    "    html_soup = BeautifulSoup(response.text, 'html.parser')\n",
    "    apartment_containers = html_soup.find_all('div', class_ = 'result-info')\n",
    "\n",
    "    df = pd.DataFrame(columns = ['name', 'price', 'bedrooms', 'area', 'location'])\n",
    "    \n",
    "    for apartment in apartment_containers:\n",
    "        name = apartment.find(\"h3\", class_ = \"result-heading\").text.strip()    \n",
    "        price = float(\"\".join(ch for ch in apartment.find(\"span\", class_ = \"result-price\").text if ch.isnumeric()))\n",
    "        housing_info = apartment.find(\"span\", class_ = \"housing\")\n",
    "        if housing_info != None:\n",
    "            housing_info = housing_info.text\n",
    "            bedrooms = re.findall(r\"([0-9])\\s*(?:br|bed\\s*room)\", housing_info)\n",
    "            if len(bedrooms) > 0:\n",
    "                bedrooms = int(bedrooms[0])\n",
    "            else:\n",
    "                bedrooms = None\n",
    "            area = re.findall(r\"([0-9]+[0-9,]*(?:\\.[0-9]{2})?)\\s*(?:ft|feet|(?:sq|square)\\s*(?:ft|feet)?)\", housing_info)\n",
    "            if len(area) > 0:\n",
    "                #print(\"area:\", area)\n",
    "                area = float(re.sub(r\",\", \"\", area[0]))\n",
    "            else:\n",
    "                area = None\n",
    "        location = apartment.find(\"span\", class_=\"result-hood\")\n",
    "        if location != None:\n",
    "            location = re.sub(\"[^a-zA-Z0-9 ]\", \"\", location.text).strip()\n",
    "        if price != None and price > 200:\n",
    "            df = df.append({'name' : name, 'price' : price, 'bedrooms' : bedrooms,\n",
    "                            'area' : area, 'location' : location.upper() if location else None}, \n",
    "                            ignore_index = True)\n",
    "            \n",
    "    filtered = df if num_bedrooms == 0 else df.loc[df['bedrooms'] == num_bedrooms]\n",
    "    print(\"# Houses: {}\".format(len(filtered)))\n",
    "    return filtered.agg({\"price\": [\"min\", \"median\", \"mean\", \"max\", \"std\"],\n",
    "                         \"bedrooms\": [\"min\", \"median\", \"mean\", \"max\", \"std\"],\n",
    "                         \"area\": [\"min\", \"median\", \"mean\", \"max\", \"std\"],\n",
    "                        })"
   ]
  },
  {
   "cell_type": "code",
   "execution_count": 3,
   "id": "67cf3b8c",
   "metadata": {},
   "outputs": [],
   "source": [
    "ua = UserAgent()\n",
    "header = {'User Agent' : str(ua.chrome)}"
   ]
  },
  {
   "cell_type": "markdown",
   "id": "4188753d",
   "metadata": {},
   "source": [
    "## Kailua Apartment Statistics\n",
    "(2-bedroom apartments only)"
   ]
  },
  {
   "cell_type": "code",
   "execution_count": 4,
   "id": "01f1f776",
   "metadata": {},
   "outputs": [
    {
     "name": "stdout",
     "output_type": "stream",
     "text": [
      "# Houses: 17\n"
     ]
    },
    {
     "data": {
      "text/html": [
       "<div>\n",
       "<style scoped>\n",
       "    .dataframe tbody tr th:only-of-type {\n",
       "        vertical-align: middle;\n",
       "    }\n",
       "\n",
       "    .dataframe tbody tr th {\n",
       "        vertical-align: top;\n",
       "    }\n",
       "\n",
       "    .dataframe thead th {\n",
       "        text-align: right;\n",
       "    }\n",
       "</style>\n",
       "<table border=\"1\" class=\"dataframe\">\n",
       "  <thead>\n",
       "    <tr style=\"text-align: right;\">\n",
       "      <th></th>\n",
       "      <th>price</th>\n",
       "      <th>bedrooms</th>\n",
       "      <th>area</th>\n",
       "    </tr>\n",
       "  </thead>\n",
       "  <tbody>\n",
       "    <tr>\n",
       "      <th>min</th>\n",
       "      <td>1500.000000</td>\n",
       "      <td>2.0</td>\n",
       "      <td>700.000000</td>\n",
       "    </tr>\n",
       "    <tr>\n",
       "      <th>median</th>\n",
       "      <td>2800.000000</td>\n",
       "      <td>2.0</td>\n",
       "      <td>1000.000000</td>\n",
       "    </tr>\n",
       "    <tr>\n",
       "      <th>mean</th>\n",
       "      <td>3029.411765</td>\n",
       "      <td>2.0</td>\n",
       "      <td>1071.384615</td>\n",
       "    </tr>\n",
       "    <tr>\n",
       "      <th>max</th>\n",
       "      <td>4950.000000</td>\n",
       "      <td>2.0</td>\n",
       "      <td>1800.000000</td>\n",
       "    </tr>\n",
       "    <tr>\n",
       "      <th>std</th>\n",
       "      <td>1007.803742</td>\n",
       "      <td>0.0</td>\n",
       "      <td>340.510044</td>\n",
       "    </tr>\n",
       "  </tbody>\n",
       "</table>\n",
       "</div>"
      ],
      "text/plain": [
       "              price  bedrooms         area\n",
       "min     1500.000000       2.0   700.000000\n",
       "median  2800.000000       2.0  1000.000000\n",
       "mean    3029.411765       2.0  1071.384615\n",
       "max     4950.000000       2.0  1800.000000\n",
       "std     1007.803742       0.0   340.510044"
      ]
     },
     "execution_count": 4,
     "metadata": {},
     "output_type": "execute_result"
    }
   ],
   "source": [
    "get_apartment_stats(zipcode=96734, header=header, num_bedrooms=2)"
   ]
  },
  {
   "cell_type": "markdown",
   "id": "5aa8fb19",
   "metadata": {},
   "source": [
    "## Kaneohe Apartment Statistics\n",
    "(2-bedroom apartments only)"
   ]
  },
  {
   "cell_type": "code",
   "execution_count": 5,
   "id": "ae95936c",
   "metadata": {},
   "outputs": [
    {
     "name": "stdout",
     "output_type": "stream",
     "text": [
      "# Houses: 13\n"
     ]
    },
    {
     "data": {
      "text/html": [
       "<div>\n",
       "<style scoped>\n",
       "    .dataframe tbody tr th:only-of-type {\n",
       "        vertical-align: middle;\n",
       "    }\n",
       "\n",
       "    .dataframe tbody tr th {\n",
       "        vertical-align: top;\n",
       "    }\n",
       "\n",
       "    .dataframe thead th {\n",
       "        text-align: right;\n",
       "    }\n",
       "</style>\n",
       "<table border=\"1\" class=\"dataframe\">\n",
       "  <thead>\n",
       "    <tr style=\"text-align: right;\">\n",
       "      <th></th>\n",
       "      <th>price</th>\n",
       "      <th>bedrooms</th>\n",
       "      <th>area</th>\n",
       "    </tr>\n",
       "  </thead>\n",
       "  <tbody>\n",
       "    <tr>\n",
       "      <th>min</th>\n",
       "      <td>1400.000000</td>\n",
       "      <td>2.0</td>\n",
       "      <td>532.000000</td>\n",
       "    </tr>\n",
       "    <tr>\n",
       "      <th>median</th>\n",
       "      <td>2085.000000</td>\n",
       "      <td>2.0</td>\n",
       "      <td>784.000000</td>\n",
       "    </tr>\n",
       "    <tr>\n",
       "      <th>mean</th>\n",
       "      <td>2067.307692</td>\n",
       "      <td>2.0</td>\n",
       "      <td>791.727273</td>\n",
       "    </tr>\n",
       "    <tr>\n",
       "      <th>max</th>\n",
       "      <td>2500.000000</td>\n",
       "      <td>2.0</td>\n",
       "      <td>1000.000000</td>\n",
       "    </tr>\n",
       "    <tr>\n",
       "      <th>std</th>\n",
       "      <td>321.666335</td>\n",
       "      <td>0.0</td>\n",
       "      <td>158.213837</td>\n",
       "    </tr>\n",
       "  </tbody>\n",
       "</table>\n",
       "</div>"
      ],
      "text/plain": [
       "              price  bedrooms         area\n",
       "min     1400.000000       2.0   532.000000\n",
       "median  2085.000000       2.0   784.000000\n",
       "mean    2067.307692       2.0   791.727273\n",
       "max     2500.000000       2.0  1000.000000\n",
       "std      321.666335       0.0   158.213837"
      ]
     },
     "execution_count": 5,
     "metadata": {},
     "output_type": "execute_result"
    }
   ],
   "source": [
    "get_apartment_stats(zipcode=96744, header=header, num_bedrooms=2)"
   ]
  },
  {
   "cell_type": "markdown",
   "id": "7839c6d3",
   "metadata": {},
   "source": [
    "## Check Any Zipcode"
   ]
  },
  {
   "cell_type": "markdown",
   "id": "42732e16",
   "metadata": {},
   "source": [
    "Run the cell below and enter a zipcode, along with number of number of bedrooms you want to filter homes by to check prices for any zipcode. \n",
    "\n",
    "Note: To run the cell below, click on it and press \"shift+enter\""
   ]
  },
  {
   "cell_type": "code",
   "execution_count": null,
   "id": "56f26db9",
   "metadata": {},
   "outputs": [],
   "source": [
    "new_zipcode = int(input(\"Enter zipcode: \"))\n",
    "bedrooms = int(input(\"Enter desired # of bedrooms (type 0 to search for any number): \"))\n",
    "get_apartment_stats(zipcode=new_zipcode, header=header, num_bedrooms=bedrooms)"
   ]
  }
 ],
 "metadata": {
  "kernelspec": {
   "display_name": "Python 3",
   "language": "python",
   "name": "python3"
  },
  "language_info": {
   "codemirror_mode": {
    "name": "ipython",
    "version": 3
   },
   "file_extension": ".py",
   "mimetype": "text/x-python",
   "name": "python",
   "nbconvert_exporter": "python",
   "pygments_lexer": "ipython3",
   "version": "3.8.8"
  },
  "varInspector": {
   "cols": {
    "lenName": 16,
    "lenType": 16,
    "lenVar": "80"
   },
   "kernels_config": {
    "python": {
     "delete_cmd_postfix": "",
     "delete_cmd_prefix": "del ",
     "library": "var_list.py",
     "varRefreshCmd": "print(var_dic_list())"
    },
    "r": {
     "delete_cmd_postfix": ") ",
     "delete_cmd_prefix": "rm(",
     "library": "var_list.r",
     "varRefreshCmd": "cat(var_dic_list()) "
    }
   },
   "types_to_exclude": [
    "module",
    "function",
    "builtin_function_or_method",
    "instance",
    "_Feature"
   ],
   "window_display": false
  }
 },
 "nbformat": 4,
 "nbformat_minor": 5
}
